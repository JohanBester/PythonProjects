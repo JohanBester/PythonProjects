{
 "cells": [
  {
   "cell_type": "code",
   "execution_count": 2,
   "metadata": {},
   "outputs": [
    {
     "ename": "ModuleNotFoundError",
     "evalue": "No module named 'requests'",
     "output_type": "error",
     "traceback": [
      "\u001b[1;31m---------------------------------------------------------------------------\u001b[0m",
      "\u001b[1;31mModuleNotFoundError\u001b[0m                       Traceback (most recent call last)",
      "Cell \u001b[1;32mIn[2], line 2\u001b[0m\n\u001b[0;32m      1\u001b[0m \u001b[39m# request the URL of the webpage you want to access\u001b[39;00m\n\u001b[1;32m----> 2\u001b[0m \u001b[39mimport\u001b[39;00m \u001b[39mrequests\u001b[39;00m\n\u001b[0;32m      3\u001b[0m \u001b[39mfrom\u001b[39;00m \u001b[39mbs4\u001b[39;00m \u001b[39mimport\u001b[39;00m BeautifulSoup \u001b[39mas\u001b[39;00m soup\n\u001b[0;32m      5\u001b[0m URL \u001b[39m=\u001b[39m \u001b[39m\"\u001b[39m\u001b[39mhttps://www.realtor.com/realestateandhomes-search/Edwardsville_IL\u001b[39m\u001b[39m\"\u001b[39m\n",
      "\u001b[1;31mModuleNotFoundError\u001b[0m: No module named 'requests'"
     ]
    }
   ],
   "source": [
    "# request the URL of the webpage you want to access\n",
    "import requests\n",
    "from bs4 import BeautifulSoup as soup\n",
    "\n",
    "URL = \"https://www.realtor.com/realestateandhomes-search/Edwardsville_IL\"\n",
    "response = requests.get(URL)\n",
    "\n",
    "# parse the response into a readable form\n",
    "results = soup(response.content, 'html5lib')\n",
    "print(results.prettify())"
   ]
  }
 ],
 "metadata": {
  "kernelspec": {
   "display_name": "Python 3",
   "language": "python",
   "name": "python3"
  },
  "language_info": {
   "codemirror_mode": {
    "name": "ipython",
    "version": 3
   },
   "file_extension": ".py",
   "mimetype": "text/x-python",
   "name": "python",
   "nbconvert_exporter": "python",
   "pygments_lexer": "ipython3",
   "version": "3.11.1"
  },
  "orig_nbformat": 4,
  "vscode": {
   "interpreter": {
    "hash": "4d58825d447355bfeb400f5c0ce817a2d509fc6fdd21cdea5ecafaa3a482be5b"
   }
  }
 },
 "nbformat": 4,
 "nbformat_minor": 2
}
