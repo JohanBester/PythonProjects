{
 "cells": [
  {
   "cell_type": "code",
   "execution_count": null,
   "metadata": {},
   "outputs": [],
   "source": [
    "# request the URL of the webpage you want to access\n",
    "import requests\n",
    "import html5lib\n",
    "from bs4 import BeautifulSoup as soup\n",
    "\n",
    "URL = \"https://www.realtor.com/realestateandhomes-search/Edwardsville_IL\"\n",
    "response = requests.get(URL)\n",
    "\n",
    "# parse the response into a readable form\n",
    "results = soup(response.content, 'html5lib')\n",
    "print(results.prettify())"
   ]
  }
 ],
 "metadata": {
  "kernelspec": {
   "display_name": "Python 3",
   "language": "python",
   "name": "python3"
  },
  "language_info": {
   "codemirror_mode": {
    "name": "ipython",
    "version": 3
   },
   "file_extension": ".py",
   "mimetype": "text/x-python",
   "name": "python",
   "nbconvert_exporter": "python",
   "pygments_lexer": "ipython3",
   "version": "3.11.1"
  },
  "orig_nbformat": 4,
  "vscode": {
   "interpreter": {
    "hash": "4d58825d447355bfeb400f5c0ce817a2d509fc6fdd21cdea5ecafaa3a482be5b"
   }
  }
 },
 "nbformat": 4,
 "nbformat_minor": 2
}
