{
 "cells": [
  {
   "cell_type": "code",
   "execution_count": 2,
   "metadata": {},
   "outputs": [
    {
     "data": {
      "text/plain": [
       "'websitelogo.png'"
      ]
     },
     "execution_count": 2,
     "metadata": {},
     "output_type": "execute_result"
    }
   ],
   "source": [
    "# 4 Python Methods to Download Files from URLs\n",
    "\n",
    "import urllib.request\n",
    "import requests\n",
    "import wget\n",
    "\n",
    "'''\n",
    "    The four methods include 3 different libraries:\n",
    "        urllib -> pip install urllib\n",
    "        requests -> pip install requests\n",
    "        wget -> pip install wget\n",
    "    \n",
    "    File will be saved in the same location(folder) where you are running this program\n",
    "    The name of the file will be according to the URL, \n",
    "        for example, if the URL is https://example.com/filename.png \n",
    "        then the file name will be filename.png\n",
    "\n",
    "'''\n",
    "\n",
    "# give correct url\n",
    "URL = \"https://copyassignment.com/wp-content/uploads/2022/11/CopyAssignment-logo-3.png\"\n",
    "\n",
    "\n",
    "# Method 1: Using urllib\n",
    "# urllib is the fastest among all methods\n",
    "\n",
    "urllib.request.urlretrieve(URL, \"filename.png\")\n",
    "\n",
    "\n",
    "# Method 2: Using requests\n",
    "response = requests.get(URL)\n",
    "open(\"CopyAssignment.png\", \"wb\").write(response.content)\n",
    "\n",
    "\n",
    "# Method 3: Using wget\n",
    "wget.download(URL, \"websitelogo.png\")\n"
   ]
  }
 ],
 "metadata": {
  "kernelspec": {
   "display_name": "Python 3",
   "language": "python",
   "name": "python3"
  },
  "language_info": {
   "codemirror_mode": {
    "name": "ipython",
    "version": 3
   },
   "file_extension": ".py",
   "mimetype": "text/x-python",
   "name": "python",
   "nbconvert_exporter": "python",
   "pygments_lexer": "ipython3",
   "version": "3.11.2"
  },
  "orig_nbformat": 4,
  "vscode": {
   "interpreter": {
    "hash": "4d58825d447355bfeb400f5c0ce817a2d509fc6fdd21cdea5ecafaa3a482be5b"
   }
  }
 },
 "nbformat": 4,
 "nbformat_minor": 2
}
