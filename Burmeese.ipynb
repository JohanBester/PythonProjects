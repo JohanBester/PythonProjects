{
 "cells": [
  {
   "cell_type": "markdown",
   "metadata": {},
   "source": [
    "# Invasive Burmese Pythons\n",
    "\n",
    "## Lifecycle and reproduction of Burmese Pythons\n",
    "\n",
    "- they reach sexual maturity in four to five years\n",
    "- when males are about 7 - 9 feet\n",
    "- when females are at least 9 feet\n",
    "- females lay about every 10 months\n",
    "- ~3 months after mating they are ready to lay eggs\n",
    "- they can lay up to 100 eggs at a time, but the average is about 78 in the Florida Everglades\n",
    "- after about 6 - 8 weeks the eggs will hatch\n",
    "- expected mortality of eggs is about 10%\n",
    "- hatchling eat very little during the first about 2 weeks of life as they rely on internal yolk stores\n",
    "- pythons grow to about 3 feet in the first 9 months, and about 6 feet in the first 12 months\n",
    "- the snakes live up to between 15 - 25 years of age\n",
    "\n",
    "### Conclusions\n",
    "\n",
    "- Pythons can breed after about 60 months of growth\n",
    "- Pythons mate about every 10 months\n",
    "- about 78 eggs are laid hatching rates \n"
   ]
  }
 ],
 "metadata": {
  "language_info": {
   "name": "python"
  },
  "orig_nbformat": 4
 },
 "nbformat": 4,
 "nbformat_minor": 2
}
