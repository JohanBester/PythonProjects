{
 "cells": [
  {
   "cell_type": "markdown",
   "metadata": {
    "notebookRunGroups": {
     "groupValue": "2"
    }
   },
   "source": [
    "# Invasive Burmese Pythons\n",
    "\n",
    "## Lifecycle and reproduction of Burmese Pythons\n",
    "\n",
    "- they reach sexual maturity in 4-5 years\n",
    "    - when males are about 7-9ft\n",
    "    - when females are at least 9ft\n",
    "- the snakes live up to between 15-25 years of age (avg. ~20 yrs)\n",
    "- females lay about every 10 months\n",
    "    - about 3 months after mating females lay eggs\n",
    "    - so in her lifespan a female could produce about 15 clutches\n",
    "- female python can lay up to 100 eggs at a time, but the average is about 70 in the Florida Everglades\n",
    "    - after about 6-8 weeks the eggs will hatch\n",
    "    - expected mortality of eggs is about 11%; so about 62 eggs hatch from every clutch\n",
    "    - distribution of male to female hatchelings is 50:50\n",
    "- pythons grow to about 3ft in the first 9 months, and about 6ft in the first 12 months\n",
    "    - about 60% of juvenile reptiles survive past the 1st year; so about 35 reptiles from a clutch\n",
    "    - potentially each clutch yields about 18 female reptiles that could reach maturity\n",
    "\n",
    "### Conclusions\n",
    "\n",
    "So 1 female python could potentially produce about 450 (15x30) offspring, about 225 other females, in her life-time.\n",
    "About 15 female reptiles form a clutch would live for about 20 years, each producing 15 clutches during her life-time\n"
   ]
  },
  {
   "cell_type": "markdown",
   "metadata": {},
   "source": [
    "\n",
    "| Generation | Clutches | female offspring | total offspring |\n",
    "|----|----|----|----|\n",
    "| 1 | 15 | 225 | 450 |\n",
    "| 2 | 3,375 | 50,500 | 101,100 |\n",
    "| 3 | 758,250 | 11,373,000 | 22,746,000 |\n",
    "| 4 | 170,595,000 | 2,985,412,500 | 5,970,825,000 |\n",
    "| 5 | 44,781,187,500 | 783,670,781,250 | 1,567,341,562,500 |\n"
   ]
  }
 ],
 "metadata": {
  "kernelspec": {
   "display_name": "Python 3.10.7 64-bit",
   "language": "python",
   "name": "python3"
  },
  "language_info": {
   "name": "python",
   "version": "3.10.7"
  },
  "orig_nbformat": 4,
  "vscode": {
   "interpreter": {
    "hash": "369f2c481f4da34e4445cda3fffd2e751bd1c4d706f27375911949ba6bb62e1c"
   }
  }
 },
 "nbformat": 4,
 "nbformat_minor": 2
}
