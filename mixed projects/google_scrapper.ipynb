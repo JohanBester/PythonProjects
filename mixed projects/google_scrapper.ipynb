{
 "cells": [
  {
   "cell_type": "code",
   "execution_count": null,
   "metadata": {},
   "outputs": [],
   "source": [
    "# Google Pic Search Scrapper\n",
    "\n",
    "from typing import cast\n",
    "import requests\n",
    "from bs4 import BeautifulSoup as bs\n",
    "\n",
    "site_search = 'https://www.google.com/search?q='\n",
    "search_term = input('Input Search Term: ')\n",
    "url_term = search_term.replace(\" \", \"+\")\n",
    "search_url = site_search+url_term\n",
    "url = site_search+url_term  ##+'&tbm=isch'\n",
    "# print(url)\n",
    "\n",
    "response = requests.get(url)\n",
    "results = bs(response.content, 'html5lib')     ##'html.parser'\n",
    "# print(results.prettify())\n",
    "\n",
    "total_links = 0\n",
    "link_list = []\n",
    "raw_list = []\n",
    "\n",
    "for link in results.find_all('a'):\n",
    "    ahref = link.get('href')\n",
    "    raw_list.append(ahref)\n",
    "\n",
    "    # link_href = 'https://www.google.com'+ahref\n",
    "    # link_list.append(link_href)\n",
    "    \n",
    "    if 'https://' in ahref:\n",
    "        link_list.append(ahref)\n",
    "    \n",
    "    total_links += 1\n",
    "\n",
    "print(\"\\n\\nTotal number of links: \" + str(total_links) + \"\\n\")\n",
    "# print(total_links)\n",
    "# print(link_list)\n",
    "# print(raw_list)\n",
    "\n",
    "i = 1\n",
    "for link in link_list:\n",
    "    print(i, link)\n",
    "    i += 1\n"
   ]
  }
 ],
 "metadata": {
  "kernelspec": {
   "display_name": "Python 3",
   "language": "python",
   "name": "python3"
  },
  "language_info": {
   "codemirror_mode": {
    "name": "ipython",
    "version": 3
   },
   "file_extension": ".py",
   "mimetype": "text/x-python",
   "name": "python",
   "nbconvert_exporter": "python",
   "pygments_lexer": "ipython3",
   "version": "3.11.1"
  },
  "orig_nbformat": 4,
  "vscode": {
   "interpreter": {
    "hash": "4d58825d447355bfeb400f5c0ce817a2d509fc6fdd21cdea5ecafaa3a482be5b"
   }
  }
 },
 "nbformat": 4,
 "nbformat_minor": 2
}
